{
 "cells": [
  {
   "cell_type": "markdown",
   "metadata": {},
   "source": [
    "# Analysis of the Loan Data from Prosper by Barbara Stempien\n",
    "\n",
    "## Table of Contents¶\n",
    "\n",
    "* [Introduction](#Introduction)\n",
    "* [Data Wrangling](#Data-Wrangling)\n",
    "* [Exploratory Data Analysis](#Exploratory-Data-Analysis)\n",
    "* [Conclusions](#Conclusions)\n",
    "\n",
    "\n",
    "## Introduction\n",
    "\n",
    "Prosper loan data set contains 113,937 loans with 81 variables on each loan, including loan amount, borrower rate (or interest rate), current loan status, borrower income, borrower employment status, borrower credit history, and the latest payment information."
   ]
  },
  {
   "cell_type": "code",
   "execution_count": 926,
   "metadata": {},
   "outputs": [],
   "source": [
    "# load packages\n",
    "library(ggplot2)\n",
    "library(repr)\n",
    "library(ggthemes)\n",
    "library(dplyr)\n",
    "library(maps)\n",
    "library(mapdata)\n",
    "library(openintro)\n",
    "library(waffle)\n",
    "\n",
    "# library(gridExtra)\n",
    "# library(GGally)\n",
    "# library(scales)\n",
    "# library(memisc)\n",
    "# library(RColorBrewer)\n",
    "# library(bitops)\n",
    "# library(RCurl)"
   ]
  },
  {
   "cell_type": "code",
   "execution_count": 694,
   "metadata": {},
   "outputs": [],
   "source": [
    "# load the prosper loan dataset\n",
    "loan_dataset <- read.csv('data/prosperLoanData.csv')"
   ]
  },
  {
   "cell_type": "code",
   "execution_count": 695,
   "metadata": {},
   "outputs": [
    {
     "data": {
      "text/html": [
       "<ol class=list-inline>\n",
       "\t<li>113937</li>\n",
       "\t<li>81</li>\n",
       "</ol>\n"
      ],
      "text/latex": [
       "\\begin{enumerate*}\n",
       "\\item 113937\n",
       "\\item 81\n",
       "\\end{enumerate*}\n"
      ],
      "text/markdown": [
       "1. 113937\n",
       "2. 81\n",
       "\n",
       "\n"
      ],
      "text/plain": [
       "[1] 113937     81"
      ]
     },
     "metadata": {},
     "output_type": "display_data"
    }
   ],
   "source": [
    "# display shape of dataset; rows x columns\n",
    "dim(loan_dataset)"
   ]
  },
  {
   "cell_type": "code",
   "execution_count": 696,
   "metadata": {},
   "outputs": [
    {
     "data": {
      "text/html": [
       "<table>\n",
       "<thead><tr><th scope=col>ListingKey</th><th scope=col>ListingNumber</th><th scope=col>ListingCreationDate</th><th scope=col>CreditGrade</th><th scope=col>Term</th><th scope=col>LoanStatus</th><th scope=col>ClosedDate</th><th scope=col>BorrowerAPR</th><th scope=col>BorrowerRate</th><th scope=col>LenderYield</th><th scope=col>...</th><th scope=col>LP_ServiceFees</th><th scope=col>LP_CollectionFees</th><th scope=col>LP_GrossPrincipalLoss</th><th scope=col>LP_NetPrincipalLoss</th><th scope=col>LP_NonPrincipalRecoverypayments</th><th scope=col>PercentFunded</th><th scope=col>Recommendations</th><th scope=col>InvestmentFromFriendsCount</th><th scope=col>InvestmentFromFriendsAmount</th><th scope=col>Investors</th></tr></thead>\n",
       "<tbody>\n",
       "\t<tr><td>1021339766868145413AB3B      </td><td> 193129                      </td><td>2007-08-26 19:09:29.263000000</td><td>C                            </td><td>36                           </td><td>Completed                    </td><td>2009-08-14 00:00:00          </td><td>0.16516                      </td><td>0.1580                       </td><td>0.1380                       </td><td>...                          </td><td>-133.18                      </td><td>0                            </td><td>0                            </td><td>0                            </td><td>0                            </td><td>1                            </td><td>0                            </td><td>0                            </td><td>0                            </td><td>258                          </td></tr>\n",
       "\t<tr><td>10273602499503308B223C1      </td><td>1209647                      </td><td>2014-02-27 08:28:07.900000000</td><td>                             </td><td>36                           </td><td>Current                      </td><td>                             </td><td>0.12016                      </td><td>0.0920                       </td><td>0.0820                       </td><td>...                          </td><td>   0.00                      </td><td>0                            </td><td>0                            </td><td>0                            </td><td>0                            </td><td>1                            </td><td>0                            </td><td>0                            </td><td>0                            </td><td>  1                          </td></tr>\n",
       "\t<tr><td>0EE9337825851032864889A      </td><td>  81716                      </td><td>2007-01-05 15:00:47.090000000</td><td>HR                           </td><td>36                           </td><td>Completed                    </td><td>2009-12-17 00:00:00          </td><td>0.28269                      </td><td>0.2750                       </td><td>0.2400                       </td><td>...                          </td><td> -24.20                      </td><td>0                            </td><td>0                            </td><td>0                            </td><td>0                            </td><td>1                            </td><td>0                            </td><td>0                            </td><td>0                            </td><td> 41                          </td></tr>\n",
       "\t<tr><td>0EF5356002482715299901A      </td><td> 658116                      </td><td>2012-10-22 11:02:35.010000000</td><td>                             </td><td>36                           </td><td>Current                      </td><td>                             </td><td>0.12528                      </td><td>0.0974                       </td><td>0.0874                       </td><td>...                          </td><td>-108.01                      </td><td>0                            </td><td>0                            </td><td>0                            </td><td>0                            </td><td>1                            </td><td>0                            </td><td>0                            </td><td>0                            </td><td>158                          </td></tr>\n",
       "\t<tr><td>0F023589499656230C5E3E2      </td><td> 909464                      </td><td>2013-09-14 18:38:39.097000000</td><td>                             </td><td>36                           </td><td>Current                      </td><td>                             </td><td>0.24614                      </td><td>0.2085                       </td><td>0.1985                       </td><td>...                          </td><td> -60.27                      </td><td>0                            </td><td>0                            </td><td>0                            </td><td>0                            </td><td>1                            </td><td>0                            </td><td>0                            </td><td>0                            </td><td> 20                          </td></tr>\n",
       "\t<tr><td>0F05359734824199381F61D      </td><td>1074836                      </td><td>2013-12-14 08:26:37.093000000</td><td>                             </td><td>60                           </td><td>Current                      </td><td>                             </td><td>0.15425                      </td><td>0.1314                       </td><td>0.1214                       </td><td>...                          </td><td> -25.33                      </td><td>0                            </td><td>0                            </td><td>0                            </td><td>0                            </td><td>1                            </td><td>0                            </td><td>0                            </td><td>0                            </td><td>  1                          </td></tr>\n",
       "</tbody>\n",
       "</table>\n"
      ],
      "text/latex": [
       "\\begin{tabular}{r|lllllllllllllllllllllllllllllllllllllllllllllllllllllllllllllllllllllllllllllllll}\n",
       " ListingKey & ListingNumber & ListingCreationDate & CreditGrade & Term & LoanStatus & ClosedDate & BorrowerAPR & BorrowerRate & LenderYield & ... & LP\\_ServiceFees & LP\\_CollectionFees & LP\\_GrossPrincipalLoss & LP\\_NetPrincipalLoss & LP\\_NonPrincipalRecoverypayments & PercentFunded & Recommendations & InvestmentFromFriendsCount & InvestmentFromFriendsAmount & Investors\\\\\n",
       "\\hline\n",
       "\t 1021339766868145413AB3B       &  193129                       & 2007-08-26 19:09:29.263000000 & C                             & 36                            & Completed                     & 2009-08-14 00:00:00           & 0.16516                       & 0.1580                        & 0.1380                        & ...                           & -133.18                       & 0                             & 0                             & 0                             & 0                             & 1                             & 0                             & 0                             & 0                             & 258                          \\\\\n",
       "\t 10273602499503308B223C1       & 1209647                       & 2014-02-27 08:28:07.900000000 &                               & 36                            & Current                       &                               & 0.12016                       & 0.0920                        & 0.0820                        & ...                           &    0.00                       & 0                             & 0                             & 0                             & 0                             & 1                             & 0                             & 0                             & 0                             &   1                          \\\\\n",
       "\t 0EE9337825851032864889A       &   81716                       & 2007-01-05 15:00:47.090000000 & HR                            & 36                            & Completed                     & 2009-12-17 00:00:00           & 0.28269                       & 0.2750                        & 0.2400                        & ...                           &  -24.20                       & 0                             & 0                             & 0                             & 0                             & 1                             & 0                             & 0                             & 0                             &  41                          \\\\\n",
       "\t 0EF5356002482715299901A       &  658116                       & 2012-10-22 11:02:35.010000000 &                               & 36                            & Current                       &                               & 0.12528                       & 0.0974                        & 0.0874                        & ...                           & -108.01                       & 0                             & 0                             & 0                             & 0                             & 1                             & 0                             & 0                             & 0                             & 158                          \\\\\n",
       "\t 0F023589499656230C5E3E2       &  909464                       & 2013-09-14 18:38:39.097000000 &                               & 36                            & Current                       &                               & 0.24614                       & 0.2085                        & 0.1985                        & ...                           &  -60.27                       & 0                             & 0                             & 0                             & 0                             & 1                             & 0                             & 0                             & 0                             &  20                          \\\\\n",
       "\t 0F05359734824199381F61D       & 1074836                       & 2013-12-14 08:26:37.093000000 &                               & 60                            & Current                       &                               & 0.15425                       & 0.1314                        & 0.1214                        & ...                           &  -25.33                       & 0                             & 0                             & 0                             & 0                             & 1                             & 0                             & 0                             & 0                             &   1                          \\\\\n",
       "\\end{tabular}\n"
      ],
      "text/markdown": [
       "\n",
       "| ListingKey | ListingNumber | ListingCreationDate | CreditGrade | Term | LoanStatus | ClosedDate | BorrowerAPR | BorrowerRate | LenderYield | ... | LP_ServiceFees | LP_CollectionFees | LP_GrossPrincipalLoss | LP_NetPrincipalLoss | LP_NonPrincipalRecoverypayments | PercentFunded | Recommendations | InvestmentFromFriendsCount | InvestmentFromFriendsAmount | Investors |\n",
       "|---|---|---|---|---|---|---|---|---|---|---|---|---|---|---|---|---|---|---|---|---|\n",
       "| 1021339766868145413AB3B       |  193129                       | 2007-08-26 19:09:29.263000000 | C                             | 36                            | Completed                     | 2009-08-14 00:00:00           | 0.16516                       | 0.1580                        | 0.1380                        | ...                           | -133.18                       | 0                             | 0                             | 0                             | 0                             | 1                             | 0                             | 0                             | 0                             | 258                           |\n",
       "| 10273602499503308B223C1       | 1209647                       | 2014-02-27 08:28:07.900000000 |                               | 36                            | Current                       |                               | 0.12016                       | 0.0920                        | 0.0820                        | ...                           |    0.00                       | 0                             | 0                             | 0                             | 0                             | 1                             | 0                             | 0                             | 0                             |   1                           |\n",
       "| 0EE9337825851032864889A       |   81716                       | 2007-01-05 15:00:47.090000000 | HR                            | 36                            | Completed                     | 2009-12-17 00:00:00           | 0.28269                       | 0.2750                        | 0.2400                        | ...                           |  -24.20                       | 0                             | 0                             | 0                             | 0                             | 1                             | 0                             | 0                             | 0                             |  41                           |\n",
       "| 0EF5356002482715299901A       |  658116                       | 2012-10-22 11:02:35.010000000 |                               | 36                            | Current                       |                               | 0.12528                       | 0.0974                        | 0.0874                        | ...                           | -108.01                       | 0                             | 0                             | 0                             | 0                             | 1                             | 0                             | 0                             | 0                             | 158                           |\n",
       "| 0F023589499656230C5E3E2       |  909464                       | 2013-09-14 18:38:39.097000000 |                               | 36                            | Current                       |                               | 0.24614                       | 0.2085                        | 0.1985                        | ...                           |  -60.27                       | 0                             | 0                             | 0                             | 0                             | 1                             | 0                             | 0                             | 0                             |  20                           |\n",
       "| 0F05359734824199381F61D       | 1074836                       | 2013-12-14 08:26:37.093000000 |                               | 60                            | Current                       |                               | 0.15425                       | 0.1314                        | 0.1214                        | ...                           |  -25.33                       | 0                             | 0                             | 0                             | 0                             | 1                             | 0                             | 0                             | 0                             |   1                           |\n",
       "\n"
      ],
      "text/plain": [
       "  ListingKey              ListingNumber ListingCreationDate          \n",
       "1 1021339766868145413AB3B  193129       2007-08-26 19:09:29.263000000\n",
       "2 10273602499503308B223C1 1209647       2014-02-27 08:28:07.900000000\n",
       "3 0EE9337825851032864889A   81716       2007-01-05 15:00:47.090000000\n",
       "4 0EF5356002482715299901A  658116       2012-10-22 11:02:35.010000000\n",
       "5 0F023589499656230C5E3E2  909464       2013-09-14 18:38:39.097000000\n",
       "6 0F05359734824199381F61D 1074836       2013-12-14 08:26:37.093000000\n",
       "  CreditGrade Term LoanStatus ClosedDate          BorrowerAPR BorrowerRate\n",
       "1 C           36   Completed  2009-08-14 00:00:00 0.16516     0.1580      \n",
       "2             36   Current                        0.12016     0.0920      \n",
       "3 HR          36   Completed  2009-12-17 00:00:00 0.28269     0.2750      \n",
       "4             36   Current                        0.12528     0.0974      \n",
       "5             36   Current                        0.24614     0.2085      \n",
       "6             60   Current                        0.15425     0.1314      \n",
       "  LenderYield ... LP_ServiceFees LP_CollectionFees LP_GrossPrincipalLoss\n",
       "1 0.1380      ... -133.18        0                 0                    \n",
       "2 0.0820      ...    0.00        0                 0                    \n",
       "3 0.2400      ...  -24.20        0                 0                    \n",
       "4 0.0874      ... -108.01        0                 0                    \n",
       "5 0.1985      ...  -60.27        0                 0                    \n",
       "6 0.1214      ...  -25.33        0                 0                    \n",
       "  LP_NetPrincipalLoss LP_NonPrincipalRecoverypayments PercentFunded\n",
       "1 0                   0                               1            \n",
       "2 0                   0                               1            \n",
       "3 0                   0                               1            \n",
       "4 0                   0                               1            \n",
       "5 0                   0                               1            \n",
       "6 0                   0                               1            \n",
       "  Recommendations InvestmentFromFriendsCount InvestmentFromFriendsAmount\n",
       "1 0               0                          0                          \n",
       "2 0               0                          0                          \n",
       "3 0               0                          0                          \n",
       "4 0               0                          0                          \n",
       "5 0               0                          0                          \n",
       "6 0               0                          0                          \n",
       "  Investors\n",
       "1 258      \n",
       "2   1      \n",
       "3  41      \n",
       "4 158      \n",
       "5  20      \n",
       "6   1      "
      ]
     },
     "metadata": {},
     "output_type": "display_data"
    }
   ],
   "source": [
    "# display few lines\n",
    "head(loan_dataset)"
   ]
  },
  {
   "cell_type": "markdown",
   "metadata": {},
   "source": [
    "## Data Wrangling"
   ]
  },
  {
   "cell_type": "code",
   "execution_count": 697,
   "metadata": {},
   "outputs": [],
   "source": [
    "# subset the dataframe to the following columns\n",
    "subset <- c(\"ListingKey\",\n",
    "            \"LoanStatus\",\n",
    "            \"ListingCreationDate\",\n",
    "            \"ClosedDate\",\n",
    "            \"ListingCategory..numeric.\",\n",
    "            \"Term\",\n",
    "            \"BorrowerRate\",\n",
    "            \"LoanOriginalAmount\",\n",
    "            \"MonthlyLoanPayment\",\n",
    "            \"BorrowerState\",\n",
    "            \"IsBorrowerHomeowner\",  \n",
    "            \"Occupation\",\n",
    "            \"EmploymentStatus\",\n",
    "            \"EmploymentStatusDuration\",\n",
    "            \"StatedMonthlyIncome\",\n",
    "            \"DebtToIncomeRatio\",\n",
    "            \"ProsperRating..numeric.\",\n",
    "            \"ProsperScore\",           \n",
    "            \"CreditScoreRangeLower\",\n",
    "            \"CreditScoreRangeUpper\",\n",
    "            \"OpenCreditLines\",\n",
    "            \"TotalCreditLinespast7years\",\n",
    "            \"OpenRevolvingAccounts\",\n",
    "            \"OpenRevolvingMonthlyPayment\",\n",
    "            \"CurrentDelinquencies\",\n",
    "            \"AmountDelinquent\",\n",
    "            \"DelinquenciesLast7Years\",\n",
    "            \"PublicRecordsLast10Years\",\n",
    "            \"RevolvingCreditBalance\",\n",
    "            \"BankcardUtilization\",\n",
    "            \"TotalProsperLoans\",\n",
    "            \"ProsperPrincipalBorrowed\",\n",
    "            \"ProsperPrincipalOutstanding\",\n",
    "            \"ProsperPaymentsLessThanOneMonthLate\",\n",
    "            \"ProsperPaymentsOneMonthPlusLate\"\n",
    "           )"
   ]
  },
  {
   "cell_type": "code",
   "execution_count": 698,
   "metadata": {},
   "outputs": [],
   "source": [
    "# subset dataframe\n",
    "df <- loan_dataset[subset]"
   ]
  },
  {
   "cell_type": "code",
   "execution_count": 699,
   "metadata": {},
   "outputs": [],
   "source": [
    "# replace NAs with 0\n",
    "df[is.na(df)] <- 0"
   ]
  },
  {
   "cell_type": "code",
   "execution_count": 700,
   "metadata": {},
   "outputs": [
    {
     "name": "stdout",
     "output_type": "stream",
     "text": [
      "'data.frame':\t113937 obs. of  35 variables:\n",
      " $ ListingKey                         : Factor w/ 113066 levels \"00003546482094282EF90E5\",..: 7180 7193 6647 6669 6686 6689 6699 6706 6687 6687 ...\n",
      " $ LoanStatus                         : Factor w/ 12 levels \"Cancelled\",\"Chargedoff\",..: 3 4 3 4 4 4 4 4 4 4 ...\n",
      " $ ListingCreationDate                : Factor w/ 113064 levels \"2005-11-09 20:44:28.847000000\",..: 14184 111894 6429 64760 85967 100310 72556 74019 97834 97834 ...\n",
      " $ ClosedDate                         : Factor w/ 2803 levels \"\",\"2005-11-25 00:00:00\",..: 1138 1 1263 1 1 1 1 1 1 1 ...\n",
      " $ ListingCategory..numeric.          : int  0 2 0 16 2 1 1 2 7 7 ...\n",
      " $ Term                               : int  36 36 36 36 36 60 36 36 36 36 ...\n",
      " $ BorrowerRate                       : num  0.158 0.092 0.275 0.0974 0.2085 ...\n",
      " $ LoanOriginalAmount                 : int  9425 10000 3001 10000 15000 15000 3000 10000 10000 10000 ...\n",
      " $ MonthlyLoanPayment                 : num  330 319 123 321 564 ...\n",
      " $ BorrowerState                      : Factor w/ 52 levels \"\",\"AK\",\"AL\",\"AR\",..: 7 7 12 12 25 34 18 6 16 16 ...\n",
      " $ IsBorrowerHomeowner                : Factor w/ 2 levels \"False\",\"True\": 2 1 1 2 2 2 1 1 2 2 ...\n",
      " $ Occupation                         : Factor w/ 68 levels \"\",\"Accountant/CPA\",..: 37 43 37 52 21 43 50 29 24 24 ...\n",
      " $ EmploymentStatus                   : Factor w/ 9 levels \"\",\"Employed\",..: 9 2 4 2 2 2 2 2 2 2 ...\n",
      " $ EmploymentStatusDuration           : num  2 44 0 113 44 82 172 103 269 269 ...\n",
      " $ StatedMonthlyIncome                : num  3083 6125 2083 2875 9583 ...\n",
      " $ DebtToIncomeRatio                  : num  0.17 0.18 0.06 0.15 0.26 0.36 0.27 0.24 0.25 0.25 ...\n",
      " $ ProsperRating..numeric.            : num  0 6 0 6 3 5 2 4 7 7 ...\n",
      " $ ProsperScore                       : num  0 7 0 9 4 10 2 4 9 11 ...\n",
      " $ CreditScoreRangeLower              : num  640 680 480 800 680 740 680 700 820 820 ...\n",
      " $ CreditScoreRangeUpper              : num  659 699 499 819 699 759 699 719 839 839 ...\n",
      " $ OpenCreditLines                    : num  4 14 0 5 19 17 7 6 16 16 ...\n",
      " $ TotalCreditLinespast7years         : num  12 29 3 29 49 49 20 10 32 32 ...\n",
      " $ OpenRevolvingAccounts              : int  1 13 0 7 6 13 6 5 12 12 ...\n",
      " $ OpenRevolvingMonthlyPayment        : num  24 389 0 115 220 1410 214 101 219 219 ...\n",
      " $ CurrentDelinquencies               : num  2 0 1 4 0 0 0 0 0 0 ...\n",
      " $ AmountDelinquent                   : num  472 0 0 10056 0 ...\n",
      " $ DelinquenciesLast7Years            : num  4 0 0 14 0 0 0 0 0 0 ...\n",
      " $ PublicRecordsLast10Years           : num  0 1 0 0 0 0 0 1 0 0 ...\n",
      " $ RevolvingCreditBalance             : num  0 3989 0 1444 6193 ...\n",
      " $ BankcardUtilization                : num  0 0.21 0 0.04 0.81 0.39 0.72 0.13 0.11 0.11 ...\n",
      " $ TotalProsperLoans                  : num  0 0 0 0 1 0 0 0 0 0 ...\n",
      " $ ProsperPrincipalBorrowed           : num  0 0 0 0 11000 0 0 0 0 0 ...\n",
      " $ ProsperPrincipalOutstanding        : num  0 0 0 0 9948 ...\n",
      " $ ProsperPaymentsLessThanOneMonthLate: num  0 0 0 0 0 0 0 0 0 0 ...\n",
      " $ ProsperPaymentsOneMonthPlusLate    : num  0 0 0 0 0 0 0 0 0 0 ...\n"
     ]
    }
   ],
   "source": [
    "# display type of each variable\n",
    "str(df)"
   ]
  },
  {
   "cell_type": "code",
   "execution_count": 701,
   "metadata": {},
   "outputs": [
    {
     "data": {
      "text/plain": [
       "\n",
       "             Cancelled             Chargedoff              Completed \n",
       "                     5                  11992                  38074 \n",
       "               Current              Defaulted FinalPaymentInProgress \n",
       "                 56576                   5018                    205 \n",
       "  Past Due (>120 days)   Past Due (1-15 days)  Past Due (16-30 days) \n",
       "                    16                    806                    265 \n",
       " Past Due (31-60 days)  Past Due (61-90 days) Past Due (91-120 days) \n",
       "                   363                    313                    304 "
      ]
     },
     "metadata": {},
     "output_type": "display_data"
    }
   ],
   "source": [
    "# Loan Status variable \n",
    "table(df$LoanStatus)\n",
    "\n",
    "# convert Loan Status to factor with 7 levels\n",
    "levels(df$LoanStatus) <- list(Current = \"Current\",\n",
    "                              Completed = \"Completed\",\n",
    "                              \"Charged Off\" = \"Chargedoff\",\n",
    "                              Defaulted = \"Defaulted\",\n",
    "                              \"Past Due\" = c(\"Past Due (>120 days)\",\n",
    "                                        \"Past Due (1-15 days)\",\n",
    "                                        \"Past Due (16-30 days)\",\n",
    "                                        \"Past Due (31-60 days)\",\n",
    "                                        \"Past Due (61-90 days)\",\n",
    "                                        \"Past Due (91-120 days)\"),\n",
    "                              \"Final Payment\" = \"FinalPaymentInProgress\",\n",
    "                              Cancelled = \"Cancelled\")"
   ]
  },
  {
   "cell_type": "code",
   "execution_count": 702,
   "metadata": {},
   "outputs": [],
   "source": [
    "# convert Listing Creation Date variable to date format\n",
    "df$ListingCreationDate <- as.Date(df$ListingCreationDate)"
   ]
  },
  {
   "cell_type": "code",
   "execution_count": 703,
   "metadata": {},
   "outputs": [
    {
     "data": {
      "text/plain": [
       "\n",
       "   12    36    60 \n",
       " 1614 87778 24545 "
      ]
     },
     "metadata": {},
     "output_type": "display_data"
    }
   ],
   "source": [
    "# Term variable \n",
    "table(df$Term)\n",
    "\n",
    "# convert term to ordered factor with 3 levels\n",
    "df$Term <- factor(df$Term, levels=c(12,36,60), ordered=TRUE)"
   ]
  },
  {
   "cell_type": "code",
   "execution_count": 704,
   "metadata": {},
   "outputs": [],
   "source": [
    "# convert Closed Date variable to date format\n",
    "df$ClosedDate <- as.Date(df$ClosedDate)"
   ]
  },
  {
   "cell_type": "code",
   "execution_count": 705,
   "metadata": {},
   "outputs": [
    {
     "data": {
      "text/plain": [
       "\n",
       "    0     1     2     3     4     5     6     7 \n",
       "29084  6935  9795 14274 18345 15581 14551  5372 "
      ]
     },
     "metadata": {},
     "output_type": "display_data"
    }
   ],
   "source": [
    "# Prosper Rating variable \n",
    "table(df$ProsperRating)\n",
    "\n",
    "# convert Prosper Rating to ordered factor with 8 levels\n",
    "df$ProsperRating..numeric. <- factor(df$ProsperRating..numeric., levels=c(0,1,2,3,4,5,6,7), ordered=TRUE)"
   ]
  },
  {
   "cell_type": "code",
   "execution_count": 706,
   "metadata": {},
   "outputs": [
    {
     "data": {
      "text/plain": [
       "\n",
       "    0     1     2     3     4     5     6     7     8     9    10    11 \n",
       "29084   992  5766  7642 12595  9813 12278 10597 12053  6911  4750  1456 "
      ]
     },
     "metadata": {},
     "output_type": "display_data"
    }
   ],
   "source": [
    "# Prosper Score variable \n",
    "table(df$ProsperScore)\n",
    "\n",
    "# convert Prosper Score to ordered factor with 12 levels\n",
    "df$ProsperScore <- factor(df$ProsperScore, levels=c(0,1,2,3,4,5,6,7,8,9,10,11), ordered=TRUE)"
   ]
  },
  {
   "cell_type": "code",
   "execution_count": 707,
   "metadata": {},
   "outputs": [
    {
     "data": {
      "text/plain": [
       "\n",
       "    0     1     2     3     4     5     6     7     8     9    10    11    12 \n",
       "16965 58308  7433  7189  2395   756  2572 10494   199    85    91   217    59 \n",
       "   13    14    15    16    17    18    19    20 \n",
       " 1996   876  1522   304    52   885   768   771 "
      ]
     },
     "metadata": {},
     "output_type": "display_data"
    }
   ],
   "source": [
    "# Listing Category variable\n",
    "table(df$ListingCategory..numeric.)\n",
    "\n",
    "# add column with Listing Category labels based on the documentation\n",
    "df$ListingCategory <- factor(df$ListingCategory..numeric., labels=c('Not Available',\n",
    "                                                                    'Debt Consolidation',\n",
    "                                                                    'Home Improvement',\n",
    "                                                                    'Business',\n",
    "                                                                    'Personal Loan',\n",
    "                                                                    'Student Use',\n",
    "                                                                    'Auto',\n",
    "                                                                    'Other',\n",
    "                                                                    'Baby&Adoption',\n",
    "                                                                    'Boat',\n",
    "                                                                    'Cosmetic Procedure',\n",
    "                                                                    'Engagement Ring',\n",
    "                                                                    'Green Loans',\n",
    "                                                                    'Household Expenses',\n",
    "                                                                    'Large Purchases',\n",
    "                                                                    'Medical/Dental',\n",
    "                                                                    'Motorcycle',\n",
    "                                                                    'RV',\n",
    "                                                                    'Taxes',\n",
    "                                                                    'Vacation',\n",
    "                                                                    'Wedding Loans'))\n",
    "\n",
    "# move ListingCategory column next to the ListingCategory..numeric.\n",
    "df <- df[c(1:5,36,6:35)]"
   ]
  },
  {
   "cell_type": "code",
   "execution_count": 708,
   "metadata": {},
   "outputs": [
    {
     "data": {
      "text/plain": [
       "\n",
       "         AK    AL    AR    AZ    CA    CO    CT    DC    DE    FL    GA    HI \n",
       " 5515   200  1679   855  1901 14717  2210  1627   382   300  6720  5008   409 \n",
       "   IA    ID    IL    IN    KS    KY    LA    MA    MD    ME    MI    MN    MO \n",
       "  186   599  5921  2078  1062   983   954  2242  2821   101  3593  2318  2615 \n",
       "   MS    MT    NC    ND    NE    NH    NJ    NM    NV    NY    OH    OK    OR \n",
       "  787   330  3084    52   674   551  3097   472  1090  6729  4197   971  1817 \n",
       "   PA    RI    SC    SD    TN    TX    UT    VA    WA    WI    VT    WV    WY \n",
       " 2972   435  1122   189  1737  6842   877  3278  3048  1842   207   391   150 "
      ]
     },
     "metadata": {},
     "output_type": "display_data"
    }
   ],
   "source": [
    "# Borrower State variable\n",
    "table(df$BorrowerState)\n",
    "\n",
    "# convert State abbreviation to full name\n",
    "df$BorrowerState <- abbr2state(df$BorrowerState)"
   ]
  },
  {
   "cell_type": "code",
   "execution_count": 709,
   "metadata": {},
   "outputs": [
    {
     "data": {
      "text/plain": [
       "\n",
       "False  True \n",
       "56459 57478 "
      ]
     },
     "metadata": {},
     "output_type": "display_data"
    }
   ],
   "source": [
    "# Is Borrower Homeowner variable\n",
    "table(df$IsBorrowerHomeowner)\n",
    "\n",
    "# convert Is Borrower Homeowner to logical type\n",
    "df$IsBorrowerHomeowner <- as.logical(df$IsBorrowerHomeowner)"
   ]
  },
  {
   "cell_type": "code",
   "execution_count": 710,
   "metadata": {},
   "outputs": [
    {
     "name": "stdout",
     "output_type": "stream",
     "text": [
      "'data.frame':\t113937 obs. of  36 variables:\n",
      " $ ListingKey                         : Factor w/ 113066 levels \"00003546482094282EF90E5\",..: 7180 7193 6647 6669 6686 6689 6699 6706 6687 6687 ...\n",
      " $ LoanStatus                         : Factor w/ 7 levels \"Current\",\"Completed\",..: 2 1 2 1 1 1 1 1 1 1 ...\n",
      " $ ListingCreationDate                : Date, format: \"2007-08-26\" \"2014-02-27\" ...\n",
      " $ ClosedDate                         : Date, format: \"2009-08-14\" NA ...\n",
      " $ ListingCategory..numeric.          : int  0 2 0 16 2 1 1 2 7 7 ...\n",
      " $ ListingCategory                    : Factor w/ 21 levels \"Not Available\",..: 1 3 1 17 3 2 2 3 8 8 ...\n",
      " $ Term                               : Ord.factor w/ 3 levels \"12\"<\"36\"<\"60\": 2 2 2 2 2 3 2 2 2 2 ...\n",
      " $ BorrowerRate                       : num  0.158 0.092 0.275 0.0974 0.2085 ...\n",
      " $ LoanOriginalAmount                 : int  9425 10000 3001 10000 15000 15000 3000 10000 10000 10000 ...\n",
      " $ MonthlyLoanPayment                 : num  330 319 123 321 564 ...\n",
      " $ BorrowerState                      : chr  \"Colorado\" \"Colorado\" \"Georgia\" \"Georgia\" ...\n",
      " $ IsBorrowerHomeowner                : logi  TRUE FALSE FALSE TRUE TRUE TRUE ...\n",
      " $ Occupation                         : Factor w/ 68 levels \"\",\"Accountant/CPA\",..: 37 43 37 52 21 43 50 29 24 24 ...\n",
      " $ EmploymentStatus                   : Factor w/ 9 levels \"\",\"Employed\",..: 9 2 4 2 2 2 2 2 2 2 ...\n",
      " $ EmploymentStatusDuration           : num  2 44 0 113 44 82 172 103 269 269 ...\n",
      " $ StatedMonthlyIncome                : num  3083 6125 2083 2875 9583 ...\n",
      " $ DebtToIncomeRatio                  : num  0.17 0.18 0.06 0.15 0.26 0.36 0.27 0.24 0.25 0.25 ...\n",
      " $ ProsperRating..numeric.            : Ord.factor w/ 8 levels \"0\"<\"1\"<\"2\"<\"3\"<..: 1 7 1 7 4 6 3 5 8 8 ...\n",
      " $ ProsperScore                       : Ord.factor w/ 12 levels \"0\"<\"1\"<\"2\"<\"3\"<..: 1 8 1 10 5 11 3 5 10 12 ...\n",
      " $ CreditScoreRangeLower              : num  640 680 480 800 680 740 680 700 820 820 ...\n",
      " $ CreditScoreRangeUpper              : num  659 699 499 819 699 759 699 719 839 839 ...\n",
      " $ OpenCreditLines                    : num  4 14 0 5 19 17 7 6 16 16 ...\n",
      " $ TotalCreditLinespast7years         : num  12 29 3 29 49 49 20 10 32 32 ...\n",
      " $ OpenRevolvingAccounts              : int  1 13 0 7 6 13 6 5 12 12 ...\n",
      " $ OpenRevolvingMonthlyPayment        : num  24 389 0 115 220 1410 214 101 219 219 ...\n",
      " $ CurrentDelinquencies               : num  2 0 1 4 0 0 0 0 0 0 ...\n",
      " $ AmountDelinquent                   : num  472 0 0 10056 0 ...\n",
      " $ DelinquenciesLast7Years            : num  4 0 0 14 0 0 0 0 0 0 ...\n",
      " $ PublicRecordsLast10Years           : num  0 1 0 0 0 0 0 1 0 0 ...\n",
      " $ RevolvingCreditBalance             : num  0 3989 0 1444 6193 ...\n",
      " $ BankcardUtilization                : num  0 0.21 0 0.04 0.81 0.39 0.72 0.13 0.11 0.11 ...\n",
      " $ TotalProsperLoans                  : num  0 0 0 0 1 0 0 0 0 0 ...\n",
      " $ ProsperPrincipalBorrowed           : num  0 0 0 0 11000 0 0 0 0 0 ...\n",
      " $ ProsperPrincipalOutstanding        : num  0 0 0 0 9948 ...\n",
      " $ ProsperPaymentsLessThanOneMonthLate: num  0 0 0 0 0 0 0 0 0 0 ...\n",
      " $ ProsperPaymentsOneMonthPlusLate    : num  0 0 0 0 0 0 0 0 0 0 ...\n"
     ]
    }
   ],
   "source": [
    "# display type of each variable\n",
    "str(df)"
   ]
  },
  {
   "cell_type": "code",
   "execution_count": 711,
   "metadata": {},
   "outputs": [
    {
     "data": {
      "text/html": [
       "<table>\n",
       "<thead><tr><th scope=col>ListingKey</th><th scope=col>LoanStatus</th><th scope=col>ListingCreationDate</th><th scope=col>ClosedDate</th><th scope=col>ListingCategory..numeric.</th><th scope=col>ListingCategory</th><th scope=col>Term</th><th scope=col>BorrowerRate</th><th scope=col>LoanOriginalAmount</th><th scope=col>MonthlyLoanPayment</th><th scope=col>...</th><th scope=col>AmountDelinquent</th><th scope=col>DelinquenciesLast7Years</th><th scope=col>PublicRecordsLast10Years</th><th scope=col>RevolvingCreditBalance</th><th scope=col>BankcardUtilization</th><th scope=col>TotalProsperLoans</th><th scope=col>ProsperPrincipalBorrowed</th><th scope=col>ProsperPrincipalOutstanding</th><th scope=col>ProsperPaymentsLessThanOneMonthLate</th><th scope=col>ProsperPaymentsOneMonthPlusLate</th></tr></thead>\n",
       "<tbody>\n",
       "\t<tr><td>1021339766868145413AB3B</td><td>Completed              </td><td>2007-08-26             </td><td>2009-08-14             </td><td> 0                     </td><td>Not Available          </td><td>36                     </td><td>0.1580                 </td><td> 9425                  </td><td>330.43                 </td><td>...                    </td><td>  472                  </td><td> 4                     </td><td>0                      </td><td>    0                  </td><td>0.00                   </td><td>0                      </td><td>    0                  </td><td>   0.0                 </td><td>0                      </td><td>0                      </td></tr>\n",
       "\t<tr><td>10273602499503308B223C1</td><td>Current                </td><td>2014-02-27             </td><td>NA                     </td><td> 2                     </td><td>Home Improvement       </td><td>36                     </td><td>0.0920                 </td><td>10000                  </td><td>318.93                 </td><td>...                    </td><td>    0                  </td><td> 0                     </td><td>1                      </td><td> 3989                  </td><td>0.21                   </td><td>0                      </td><td>    0                  </td><td>   0.0                 </td><td>0                      </td><td>0                      </td></tr>\n",
       "\t<tr><td>0EE9337825851032864889A</td><td>Completed              </td><td>2007-01-05             </td><td>2009-12-17             </td><td> 0                     </td><td>Not Available          </td><td>36                     </td><td>0.2750                 </td><td> 3001                  </td><td>123.32                 </td><td>...                    </td><td>    0                  </td><td> 0                     </td><td>0                      </td><td>    0                  </td><td>0.00                   </td><td>0                      </td><td>    0                  </td><td>   0.0                 </td><td>0                      </td><td>0                      </td></tr>\n",
       "\t<tr><td>0EF5356002482715299901A</td><td>Current                </td><td>2012-10-22             </td><td>NA                     </td><td>16                     </td><td>Motorcycle             </td><td>36                     </td><td>0.0974                 </td><td>10000                  </td><td>321.45                 </td><td>...                    </td><td>10056                  </td><td>14                     </td><td>0                      </td><td> 1444                  </td><td>0.04                   </td><td>0                      </td><td>    0                  </td><td>   0.0                 </td><td>0                      </td><td>0                      </td></tr>\n",
       "\t<tr><td>0F023589499656230C5E3E2</td><td>Current                </td><td>2013-09-14             </td><td>NA                     </td><td> 2                     </td><td>Home Improvement       </td><td>36                     </td><td>0.2085                 </td><td>15000                  </td><td>563.97                 </td><td>...                    </td><td>    0                  </td><td> 0                     </td><td>0                      </td><td> 6193                  </td><td>0.81                   </td><td>1                      </td><td>11000                  </td><td>9947.9                 </td><td>0                      </td><td>0                      </td></tr>\n",
       "\t<tr><td>0F05359734824199381F61D</td><td>Current                </td><td>2013-12-14             </td><td>NA                     </td><td> 1                     </td><td>Debt Consolidation     </td><td>60                     </td><td>0.1314                 </td><td>15000                  </td><td>342.37                 </td><td>...                    </td><td>    0                  </td><td> 0                     </td><td>0                      </td><td>62999                  </td><td>0.39                   </td><td>0                      </td><td>    0                  </td><td>   0.0                 </td><td>0                      </td><td>0                      </td></tr>\n",
       "</tbody>\n",
       "</table>\n"
      ],
      "text/latex": [
       "\\begin{tabular}{r|llllllllllllllllllllllllllllllllllll}\n",
       " ListingKey & LoanStatus & ListingCreationDate & ClosedDate & ListingCategory..numeric. & ListingCategory & Term & BorrowerRate & LoanOriginalAmount & MonthlyLoanPayment & ... & AmountDelinquent & DelinquenciesLast7Years & PublicRecordsLast10Years & RevolvingCreditBalance & BankcardUtilization & TotalProsperLoans & ProsperPrincipalBorrowed & ProsperPrincipalOutstanding & ProsperPaymentsLessThanOneMonthLate & ProsperPaymentsOneMonthPlusLate\\\\\n",
       "\\hline\n",
       "\t 1021339766868145413AB3B & Completed               & 2007-08-26              & 2009-08-14              &  0                      & Not Available           & 36                      & 0.1580                  &  9425                   & 330.43                  & ...                     &   472                   &  4                      & 0                       &     0                   & 0.00                    & 0                       &     0                   &    0.0                  & 0                       & 0                      \\\\\n",
       "\t 10273602499503308B223C1 & Current                 & 2014-02-27              & NA                      &  2                      & Home Improvement        & 36                      & 0.0920                  & 10000                   & 318.93                  & ...                     &     0                   &  0                      & 1                       &  3989                   & 0.21                    & 0                       &     0                   &    0.0                  & 0                       & 0                      \\\\\n",
       "\t 0EE9337825851032864889A & Completed               & 2007-01-05              & 2009-12-17              &  0                      & Not Available           & 36                      & 0.2750                  &  3001                   & 123.32                  & ...                     &     0                   &  0                      & 0                       &     0                   & 0.00                    & 0                       &     0                   &    0.0                  & 0                       & 0                      \\\\\n",
       "\t 0EF5356002482715299901A & Current                 & 2012-10-22              & NA                      & 16                      & Motorcycle              & 36                      & 0.0974                  & 10000                   & 321.45                  & ...                     & 10056                   & 14                      & 0                       &  1444                   & 0.04                    & 0                       &     0                   &    0.0                  & 0                       & 0                      \\\\\n",
       "\t 0F023589499656230C5E3E2 & Current                 & 2013-09-14              & NA                      &  2                      & Home Improvement        & 36                      & 0.2085                  & 15000                   & 563.97                  & ...                     &     0                   &  0                      & 0                       &  6193                   & 0.81                    & 1                       & 11000                   & 9947.9                  & 0                       & 0                      \\\\\n",
       "\t 0F05359734824199381F61D & Current                 & 2013-12-14              & NA                      &  1                      & Debt Consolidation      & 60                      & 0.1314                  & 15000                   & 342.37                  & ...                     &     0                   &  0                      & 0                       & 62999                   & 0.39                    & 0                       &     0                   &    0.0                  & 0                       & 0                      \\\\\n",
       "\\end{tabular}\n"
      ],
      "text/markdown": [
       "\n",
       "| ListingKey | LoanStatus | ListingCreationDate | ClosedDate | ListingCategory..numeric. | ListingCategory | Term | BorrowerRate | LoanOriginalAmount | MonthlyLoanPayment | ... | AmountDelinquent | DelinquenciesLast7Years | PublicRecordsLast10Years | RevolvingCreditBalance | BankcardUtilization | TotalProsperLoans | ProsperPrincipalBorrowed | ProsperPrincipalOutstanding | ProsperPaymentsLessThanOneMonthLate | ProsperPaymentsOneMonthPlusLate |\n",
       "|---|---|---|---|---|---|---|---|---|---|---|---|---|---|---|---|---|---|---|---|---|\n",
       "| 1021339766868145413AB3B | Completed               | 2007-08-26              | 2009-08-14              |  0                      | Not Available           | 36                      | 0.1580                  |  9425                   | 330.43                  | ...                     |   472                   |  4                      | 0                       |     0                   | 0.00                    | 0                       |     0                   |    0.0                  | 0                       | 0                       |\n",
       "| 10273602499503308B223C1 | Current                 | 2014-02-27              | NA                      |  2                      | Home Improvement        | 36                      | 0.0920                  | 10000                   | 318.93                  | ...                     |     0                   |  0                      | 1                       |  3989                   | 0.21                    | 0                       |     0                   |    0.0                  | 0                       | 0                       |\n",
       "| 0EE9337825851032864889A | Completed               | 2007-01-05              | 2009-12-17              |  0                      | Not Available           | 36                      | 0.2750                  |  3001                   | 123.32                  | ...                     |     0                   |  0                      | 0                       |     0                   | 0.00                    | 0                       |     0                   |    0.0                  | 0                       | 0                       |\n",
       "| 0EF5356002482715299901A | Current                 | 2012-10-22              | NA                      | 16                      | Motorcycle              | 36                      | 0.0974                  | 10000                   | 321.45                  | ...                     | 10056                   | 14                      | 0                       |  1444                   | 0.04                    | 0                       |     0                   |    0.0                  | 0                       | 0                       |\n",
       "| 0F023589499656230C5E3E2 | Current                 | 2013-09-14              | NA                      |  2                      | Home Improvement        | 36                      | 0.2085                  | 15000                   | 563.97                  | ...                     |     0                   |  0                      | 0                       |  6193                   | 0.81                    | 1                       | 11000                   | 9947.9                  | 0                       | 0                       |\n",
       "| 0F05359734824199381F61D | Current                 | 2013-12-14              | NA                      |  1                      | Debt Consolidation      | 60                      | 0.1314                  | 15000                   | 342.37                  | ...                     |     0                   |  0                      | 0                       | 62999                   | 0.39                    | 0                       |     0                   |    0.0                  | 0                       | 0                       |\n",
       "\n"
      ],
      "text/plain": [
       "  ListingKey              LoanStatus ListingCreationDate ClosedDate\n",
       "1 1021339766868145413AB3B Completed  2007-08-26          2009-08-14\n",
       "2 10273602499503308B223C1 Current    2014-02-27          <NA>      \n",
       "3 0EE9337825851032864889A Completed  2007-01-05          2009-12-17\n",
       "4 0EF5356002482715299901A Current    2012-10-22          <NA>      \n",
       "5 0F023589499656230C5E3E2 Current    2013-09-14          <NA>      \n",
       "6 0F05359734824199381F61D Current    2013-12-14          <NA>      \n",
       "  ListingCategory..numeric. ListingCategory    Term BorrowerRate\n",
       "1  0                        Not Available      36   0.1580      \n",
       "2  2                        Home Improvement   36   0.0920      \n",
       "3  0                        Not Available      36   0.2750      \n",
       "4 16                        Motorcycle         36   0.0974      \n",
       "5  2                        Home Improvement   36   0.2085      \n",
       "6  1                        Debt Consolidation 60   0.1314      \n",
       "  LoanOriginalAmount MonthlyLoanPayment ... AmountDelinquent\n",
       "1  9425              330.43             ...   472           \n",
       "2 10000              318.93             ...     0           \n",
       "3  3001              123.32             ...     0           \n",
       "4 10000              321.45             ... 10056           \n",
       "5 15000              563.97             ...     0           \n",
       "6 15000              342.37             ...     0           \n",
       "  DelinquenciesLast7Years PublicRecordsLast10Years RevolvingCreditBalance\n",
       "1  4                      0                            0                 \n",
       "2  0                      1                         3989                 \n",
       "3  0                      0                            0                 \n",
       "4 14                      0                         1444                 \n",
       "5  0                      0                         6193                 \n",
       "6  0                      0                        62999                 \n",
       "  BankcardUtilization TotalProsperLoans ProsperPrincipalBorrowed\n",
       "1 0.00                0                     0                   \n",
       "2 0.21                0                     0                   \n",
       "3 0.00                0                     0                   \n",
       "4 0.04                0                     0                   \n",
       "5 0.81                1                 11000                   \n",
       "6 0.39                0                     0                   \n",
       "  ProsperPrincipalOutstanding ProsperPaymentsLessThanOneMonthLate\n",
       "1    0.0                      0                                  \n",
       "2    0.0                      0                                  \n",
       "3    0.0                      0                                  \n",
       "4    0.0                      0                                  \n",
       "5 9947.9                      0                                  \n",
       "6    0.0                      0                                  \n",
       "  ProsperPaymentsOneMonthPlusLate\n",
       "1 0                              \n",
       "2 0                              \n",
       "3 0                              \n",
       "4 0                              \n",
       "5 0                              \n",
       "6 0                              "
      ]
     },
     "metadata": {},
     "output_type": "display_data"
    }
   ],
   "source": [
    "# display few lines of new dataset\n",
    "head(df)"
   ]
  },
  {
   "cell_type": "markdown",
   "metadata": {},
   "source": [
    "## Exploratory Data Analysis"
   ]
  },
  {
   "cell_type": "code",
   "execution_count": 712,
   "metadata": {},
   "outputs": [],
   "source": [
    "# change size of plots\n",
    "options(repr.plot.width=12, repr.plot.height=6)\n",
    "\n",
    "# set theme\n",
    "theme_set(theme_classic())"
   ]
  },
  {
   "cell_type": "code",
   "execution_count": 839,
   "metadata": {},
   "outputs": [
    {
     "data": {
      "text/html": [
       "<table>\n",
       "<thead><tr><th scope=col>ListingKey</th><th scope=col>LoanStatus</th><th scope=col>ListingCreationDate</th><th scope=col>ClosedDate</th><th scope=col>ListingCategory..numeric.</th><th scope=col>ListingCategory</th><th scope=col>Term</th><th scope=col>BorrowerRate</th><th scope=col>LoanOriginalAmount</th><th scope=col>MonthlyLoanPayment</th><th scope=col>...</th><th scope=col>AmountDelinquent</th><th scope=col>DelinquenciesLast7Years</th><th scope=col>PublicRecordsLast10Years</th><th scope=col>RevolvingCreditBalance</th><th scope=col>BankcardUtilization</th><th scope=col>TotalProsperLoans</th><th scope=col>ProsperPrincipalBorrowed</th><th scope=col>ProsperPrincipalOutstanding</th><th scope=col>ProsperPaymentsLessThanOneMonthLate</th><th scope=col>ProsperPaymentsOneMonthPlusLate</th></tr></thead>\n",
       "<tbody>\n",
       "\t<tr><td>1021339766868145413AB3B</td><td>Completed              </td><td>2007-08-26             </td><td>2009-08-14             </td><td> 0                     </td><td>Not Available          </td><td>36                     </td><td>0.1580                 </td><td> 9425                  </td><td>330.43                 </td><td>...                    </td><td>  472                  </td><td> 4                     </td><td>0                      </td><td>    0                  </td><td>0.00                   </td><td>0                      </td><td>    0                  </td><td>   0.0                 </td><td>0                      </td><td>0                      </td></tr>\n",
       "\t<tr><td>10273602499503308B223C1</td><td>Current                </td><td>2014-02-27             </td><td>NA                     </td><td> 2                     </td><td>Home Improvement       </td><td>36                     </td><td>0.0920                 </td><td>10000                  </td><td>318.93                 </td><td>...                    </td><td>    0                  </td><td> 0                     </td><td>1                      </td><td> 3989                  </td><td>0.21                   </td><td>0                      </td><td>    0                  </td><td>   0.0                 </td><td>0                      </td><td>0                      </td></tr>\n",
       "\t<tr><td>0EE9337825851032864889A</td><td>Completed              </td><td>2007-01-05             </td><td>2009-12-17             </td><td> 0                     </td><td>Not Available          </td><td>36                     </td><td>0.2750                 </td><td> 3001                  </td><td>123.32                 </td><td>...                    </td><td>    0                  </td><td> 0                     </td><td>0                      </td><td>    0                  </td><td>0.00                   </td><td>0                      </td><td>    0                  </td><td>   0.0                 </td><td>0                      </td><td>0                      </td></tr>\n",
       "\t<tr><td>0EF5356002482715299901A</td><td>Current                </td><td>2012-10-22             </td><td>NA                     </td><td>16                     </td><td>Motorcycle             </td><td>36                     </td><td>0.0974                 </td><td>10000                  </td><td>321.45                 </td><td>...                    </td><td>10056                  </td><td>14                     </td><td>0                      </td><td> 1444                  </td><td>0.04                   </td><td>0                      </td><td>    0                  </td><td>   0.0                 </td><td>0                      </td><td>0                      </td></tr>\n",
       "\t<tr><td>0F023589499656230C5E3E2</td><td>Current                </td><td>2013-09-14             </td><td>NA                     </td><td> 2                     </td><td>Home Improvement       </td><td>36                     </td><td>0.2085                 </td><td>15000                  </td><td>563.97                 </td><td>...                    </td><td>    0                  </td><td> 0                     </td><td>0                      </td><td> 6193                  </td><td>0.81                   </td><td>1                      </td><td>11000                  </td><td>9947.9                 </td><td>0                      </td><td>0                      </td></tr>\n",
       "\t<tr><td>0F05359734824199381F61D</td><td>Current                </td><td>2013-12-14             </td><td>NA                     </td><td> 1                     </td><td>Debt Consolidation     </td><td>60                     </td><td>0.1314                 </td><td>15000                  </td><td>342.37                 </td><td>...                    </td><td>    0                  </td><td> 0                     </td><td>0                      </td><td>62999                  </td><td>0.39                   </td><td>0                      </td><td>    0                  </td><td>   0.0                 </td><td>0                      </td><td>0                      </td></tr>\n",
       "</tbody>\n",
       "</table>\n"
      ],
      "text/latex": [
       "\\begin{tabular}{r|llllllllllllllllllllllllllllllllllll}\n",
       " ListingKey & LoanStatus & ListingCreationDate & ClosedDate & ListingCategory..numeric. & ListingCategory & Term & BorrowerRate & LoanOriginalAmount & MonthlyLoanPayment & ... & AmountDelinquent & DelinquenciesLast7Years & PublicRecordsLast10Years & RevolvingCreditBalance & BankcardUtilization & TotalProsperLoans & ProsperPrincipalBorrowed & ProsperPrincipalOutstanding & ProsperPaymentsLessThanOneMonthLate & ProsperPaymentsOneMonthPlusLate\\\\\n",
       "\\hline\n",
       "\t 1021339766868145413AB3B & Completed               & 2007-08-26              & 2009-08-14              &  0                      & Not Available           & 36                      & 0.1580                  &  9425                   & 330.43                  & ...                     &   472                   &  4                      & 0                       &     0                   & 0.00                    & 0                       &     0                   &    0.0                  & 0                       & 0                      \\\\\n",
       "\t 10273602499503308B223C1 & Current                 & 2014-02-27              & NA                      &  2                      & Home Improvement        & 36                      & 0.0920                  & 10000                   & 318.93                  & ...                     &     0                   &  0                      & 1                       &  3989                   & 0.21                    & 0                       &     0                   &    0.0                  & 0                       & 0                      \\\\\n",
       "\t 0EE9337825851032864889A & Completed               & 2007-01-05              & 2009-12-17              &  0                      & Not Available           & 36                      & 0.2750                  &  3001                   & 123.32                  & ...                     &     0                   &  0                      & 0                       &     0                   & 0.00                    & 0                       &     0                   &    0.0                  & 0                       & 0                      \\\\\n",
       "\t 0EF5356002482715299901A & Current                 & 2012-10-22              & NA                      & 16                      & Motorcycle              & 36                      & 0.0974                  & 10000                   & 321.45                  & ...                     & 10056                   & 14                      & 0                       &  1444                   & 0.04                    & 0                       &     0                   &    0.0                  & 0                       & 0                      \\\\\n",
       "\t 0F023589499656230C5E3E2 & Current                 & 2013-09-14              & NA                      &  2                      & Home Improvement        & 36                      & 0.2085                  & 15000                   & 563.97                  & ...                     &     0                   &  0                      & 0                       &  6193                   & 0.81                    & 1                       & 11000                   & 9947.9                  & 0                       & 0                      \\\\\n",
       "\t 0F05359734824199381F61D & Current                 & 2013-12-14              & NA                      &  1                      & Debt Consolidation      & 60                      & 0.1314                  & 15000                   & 342.37                  & ...                     &     0                   &  0                      & 0                       & 62999                   & 0.39                    & 0                       &     0                   &    0.0                  & 0                       & 0                      \\\\\n",
       "\\end{tabular}\n"
      ],
      "text/markdown": [
       "\n",
       "| ListingKey | LoanStatus | ListingCreationDate | ClosedDate | ListingCategory..numeric. | ListingCategory | Term | BorrowerRate | LoanOriginalAmount | MonthlyLoanPayment | ... | AmountDelinquent | DelinquenciesLast7Years | PublicRecordsLast10Years | RevolvingCreditBalance | BankcardUtilization | TotalProsperLoans | ProsperPrincipalBorrowed | ProsperPrincipalOutstanding | ProsperPaymentsLessThanOneMonthLate | ProsperPaymentsOneMonthPlusLate |\n",
       "|---|---|---|---|---|---|---|---|---|---|---|---|---|---|---|---|---|---|---|---|---|\n",
       "| 1021339766868145413AB3B | Completed               | 2007-08-26              | 2009-08-14              |  0                      | Not Available           | 36                      | 0.1580                  |  9425                   | 330.43                  | ...                     |   472                   |  4                      | 0                       |     0                   | 0.00                    | 0                       |     0                   |    0.0                  | 0                       | 0                       |\n",
       "| 10273602499503308B223C1 | Current                 | 2014-02-27              | NA                      |  2                      | Home Improvement        | 36                      | 0.0920                  | 10000                   | 318.93                  | ...                     |     0                   |  0                      | 1                       |  3989                   | 0.21                    | 0                       |     0                   |    0.0                  | 0                       | 0                       |\n",
       "| 0EE9337825851032864889A | Completed               | 2007-01-05              | 2009-12-17              |  0                      | Not Available           | 36                      | 0.2750                  |  3001                   | 123.32                  | ...                     |     0                   |  0                      | 0                       |     0                   | 0.00                    | 0                       |     0                   |    0.0                  | 0                       | 0                       |\n",
       "| 0EF5356002482715299901A | Current                 | 2012-10-22              | NA                      | 16                      | Motorcycle              | 36                      | 0.0974                  | 10000                   | 321.45                  | ...                     | 10056                   | 14                      | 0                       |  1444                   | 0.04                    | 0                       |     0                   |    0.0                  | 0                       | 0                       |\n",
       "| 0F023589499656230C5E3E2 | Current                 | 2013-09-14              | NA                      |  2                      | Home Improvement        | 36                      | 0.2085                  | 15000                   | 563.97                  | ...                     |     0                   |  0                      | 0                       |  6193                   | 0.81                    | 1                       | 11000                   | 9947.9                  | 0                       | 0                       |\n",
       "| 0F05359734824199381F61D | Current                 | 2013-12-14              | NA                      |  1                      | Debt Consolidation      | 60                      | 0.1314                  | 15000                   | 342.37                  | ...                     |     0                   |  0                      | 0                       | 62999                   | 0.39                    | 0                       |     0                   |    0.0                  | 0                       | 0                       |\n",
       "\n"
      ],
      "text/plain": [
       "  ListingKey              LoanStatus ListingCreationDate ClosedDate\n",
       "1 1021339766868145413AB3B Completed  2007-08-26          2009-08-14\n",
       "2 10273602499503308B223C1 Current    2014-02-27          <NA>      \n",
       "3 0EE9337825851032864889A Completed  2007-01-05          2009-12-17\n",
       "4 0EF5356002482715299901A Current    2012-10-22          <NA>      \n",
       "5 0F023589499656230C5E3E2 Current    2013-09-14          <NA>      \n",
       "6 0F05359734824199381F61D Current    2013-12-14          <NA>      \n",
       "  ListingCategory..numeric. ListingCategory    Term BorrowerRate\n",
       "1  0                        Not Available      36   0.1580      \n",
       "2  2                        Home Improvement   36   0.0920      \n",
       "3  0                        Not Available      36   0.2750      \n",
       "4 16                        Motorcycle         36   0.0974      \n",
       "5  2                        Home Improvement   36   0.2085      \n",
       "6  1                        Debt Consolidation 60   0.1314      \n",
       "  LoanOriginalAmount MonthlyLoanPayment ... AmountDelinquent\n",
       "1  9425              330.43             ...   472           \n",
       "2 10000              318.93             ...     0           \n",
       "3  3001              123.32             ...     0           \n",
       "4 10000              321.45             ... 10056           \n",
       "5 15000              563.97             ...     0           \n",
       "6 15000              342.37             ...     0           \n",
       "  DelinquenciesLast7Years PublicRecordsLast10Years RevolvingCreditBalance\n",
       "1  4                      0                            0                 \n",
       "2  0                      1                         3989                 \n",
       "3  0                      0                            0                 \n",
       "4 14                      0                         1444                 \n",
       "5  0                      0                         6193                 \n",
       "6  0                      0                        62999                 \n",
       "  BankcardUtilization TotalProsperLoans ProsperPrincipalBorrowed\n",
       "1 0.00                0                     0                   \n",
       "2 0.21                0                     0                   \n",
       "3 0.00                0                     0                   \n",
       "4 0.04                0                     0                   \n",
       "5 0.81                1                 11000                   \n",
       "6 0.39                0                     0                   \n",
       "  ProsperPrincipalOutstanding ProsperPaymentsLessThanOneMonthLate\n",
       "1    0.0                      0                                  \n",
       "2    0.0                      0                                  \n",
       "3    0.0                      0                                  \n",
       "4    0.0                      0                                  \n",
       "5 9947.9                      0                                  \n",
       "6    0.0                      0                                  \n",
       "  ProsperPaymentsOneMonthPlusLate\n",
       "1 0                              \n",
       "2 0                              \n",
       "3 0                              \n",
       "4 0                              \n",
       "5 0                              \n",
       "6 0                              "
      ]
     },
     "metadata": {},
     "output_type": "display_data"
    }
   ],
   "source": [
    "head(df)"
   ]
  },
  {
   "cell_type": "code",
   "execution_count": 838,
   "metadata": {},
   "outputs": [
    {
     "data": {},
     "metadata": {},
     "output_type": "display_data"
    },
    {
     "data": {
      "image/png": "[encoded data removed]",
      "text/plain": [
       "plot without title"
      ]
     },
     "metadata": {},
     "output_type": "display_data"
    }
   ],
   "source": [
    "# Group Listings by year and month\n",
    "creation_date <- df %>% count(df$ListingCreationDate) %>%\n",
    "                set_colnames(c(\"date\", \"count\")) %>%\n",
    "                mutate(month = as.Date(cut(date, breaks = \"month\"))) %>%\n",
    "                group_by(month) %>% \n",
    "                summarise(total = sum(count)) \n",
    "\n",
    "# Plot Listing Creation Date\n",
    "ggplot(creation_date3, aes(x=month, y=total)) +\n",
    "      geom_line(color = \"#3F5D7D\", size = 0.75) + \n",
    "      geom_point(color = \"#3F5D7D\", size = 3) +\n",
    "      scale_x_date(date_labels = \"%b-%Y\", date_breaks=\"4 months\") +\n",
    "      labs(title = \"Listing Creation Date\") + \n",
    "      scale_y_continuous(limits = c(0,6000), breaks = seq(0, 6000, 1000)) +\n",
    "      theme(plot.title = element_text(hjust = 0.5),\n",
    "            axis.title.x = element_blank(),\n",
    "            axis.title.y = element_blank(),\n",
    "            axis.text.y = element_text(size=10),\n",
    "            axis.text.x = element_text(angle = 45, hjust = 1, size=10),\n",
    "            panel.grid.major.y = element_line(color=\"#d3d3d3\", linetype = \"dashed\", size=0.5))"
   ]
  },
  {
   "cell_type": "code",
   "execution_count": 811,
   "metadata": {},
   "outputs": [
    {
     "data": {},
     "metadata": {},
     "output_type": "display_data"
    },
    {
     "data": {
      "image/png": "[encoded data removed]",
      "text/plain": [
       "plot without title"
      ]
     },
     "metadata": {},
     "output_type": "display_data"
    }
   ],
   "source": [
    "# Loan Status \n",
    "loan_status <- df %>% count(df$LoanStatus) %>%\n",
    "                set_colnames(c(\"status\", \"count\"))\n",
    "\n",
    "# plot loan status\n",
    "ggplot(loan_status, aes(x = status, y = count)) +\n",
    "  geom_bar(fill = \"#3F5D7D\", stat = \"identity\") +\n",
    "  geom_text(aes(label = count), hjust = -0.25) +\n",
    "  labs(title = \"Loan status\") + \n",
    "  scale_y_continuous(limits = c(0,60000), breaks = seq(0, 55000, 5000), expand = c(0,0)) +\n",
    "  theme(plot.title = element_text(hjust = 0.5),\n",
    "        axis.title.x = element_blank(),\n",
    "        axis.title.y = element_blank(),\n",
    "        axis.text.y = element_text(size=10),\n",
    "        axis.text.x = element_text(size=10),\n",
    "        panel.grid.major.x = element_line(color=\"#d3d3d3\", linetype = \"dashed\", size=0.5)) + \n",
    "  rotate()"
   ]
  },
  {
   "cell_type": "code",
   "execution_count": 869,
   "metadata": {},
   "outputs": [
    {
     "data": {},
     "metadata": {},
     "output_type": "display_data"
    },
    {
     "data": {
      "image/png": "[encoded data removed]",
      "text/plain": [
       "plot without title"
      ]
     },
     "metadata": {},
     "output_type": "display_data"
    }
   ],
   "source": [
    "# Listing Category\n",
    "listing_category <- df %>% count(df$ListingCategory) %>%\n",
    "                    set_colnames(c(\"category\", \"count\"))\n",
    "\n",
    "# plot listing category\n",
    "ggplot(listing_category, aes(x = category, y = count)) +\n",
    "  geom_bar(fill = \"#3F5D7D\", stat = \"identity\") +\n",
    "  geom_text(aes(label = count), vjust = -0.5) +\n",
    "  labs(title = \"Listing Category\") + \n",
    "  scale_y_continuous(limits = c(0,65000), breaks = seq(0, 65000, 5000), expand = c(0,0)) +\n",
    "  theme(plot.title = element_text(hjust = 0.5),\n",
    "        axis.title.x = element_blank(),\n",
    "        axis.title.y = element_blank(),\n",
    "        axis.text.y = element_text(size=10),\n",
    "        axis.text.x = element_text(angle = 45, hjust = 1, size=10),\n",
    "        panel.grid.major.y = element_line(color=\"#d3d3d3\", linetype = \"dashed\", size=0.5))"
   ]
  },
  {
   "cell_type": "code",
   "execution_count": 1010,
   "metadata": {},
   "outputs": [
    {
     "data": {},
     "metadata": {},
     "output_type": "display_data"
    },
    {
     "data": {
      "image/png": "[encoded data removed]",
      "text/plain": [
       "plot without title"
      ]
     },
     "metadata": {},
     "output_type": "display_data"
    }
   ],
   "source": [
    "# Term\n",
    "term <- df %>% count(df$Term) %>%\n",
    "                    set_colnames(c(\"term\", \"count\"))\n",
    "# plot home ownership\n",
    "waffle(c(\"12 months\" = term$count[term$term == 12] / 500, \n",
    "         \"36 months\" = term$count[term$term == 36] / 500,\n",
    "         \"60 months\" = term$count[term$term == 60] / 500),\n",
    "       rows = 10, \n",
    "       colors = c(\"#d3d3d3\", \"#a9bacc\", \"#3F5D7D\"), \n",
    "       size = 0.5, \n",
    "       pad = 1, \n",
    "       legend_pos = \"bottom\", \n",
    "       title = \"How long is a loan term?\",\n",
    "       xlab = \"1 square = 500 customers\")"
   ]
  },
  {
   "cell_type": "code",
   "execution_count": 909,
   "metadata": {},
   "outputs": [
    {
     "data": {
      "text/plain": [
       "   Min. 1st Qu.  Median    Mean 3rd Qu.    Max. \n",
       " 0.0000  0.1340  0.1840  0.1928  0.2500  0.4975 "
      ]
     },
     "metadata": {},
     "output_type": "display_data"
    },
    {
     "data": {},
     "metadata": {},
     "output_type": "display_data"
    },
    {
     "data": {
      "image/png": "[encoded data removed]",
      "text/plain": [
       "plot without title"
      ]
     },
     "metadata": {},
     "output_type": "display_data"
    }
   ],
   "source": [
    "# Borrower Rate\n",
    "summary(df$BorrowerRate)\n",
    "        \n",
    "borrower_rate <- df %>% count(df$BorrowerRate) %>%\n",
    "                    set_colnames(c(\"rate\", \"count\"))\n",
    "\n",
    "ggplot(borrower_rate, aes(x = rate, y = count)) +\n",
    "  geom_point(aes(size = count), color = \"#3F5D7D\") +\n",
    "  labs(title = \"Borrower Rate\") + \n",
    "  scale_y_continuous(limits = c(0,4000), breaks = seq(0, 4000, 500), expand = c(0,0)) +\n",
    "  scale_x_continuous(breaks = seq(0, 0.5, 0.05)) +\n",
    "  theme(plot.title = element_text(hjust = 0.5),\n",
    "        axis.title.x = element_blank(),\n",
    "        axis.title.y = element_blank(),\n",
    "        legend.title = element_blank(),\n",
    "        axis.text.y = element_text(size=10),\n",
    "        axis.text.x = element_text(size=10),\n",
    "        panel.grid.major.y = element_line(color=\"#d3d3d3\", linetype = \"dashed\", size=0.5)) +\n",
    "  geom_vline(aes(xintercept = mean(rate)),\n",
    "            color = \"#ff7f0e\", linetype = \"dashed\", size = 1)"
   ]
  },
  {
   "cell_type": "code",
   "execution_count": 832,
   "metadata": {
    "scrolled": false
   },
   "outputs": [
    {
     "data": {
      "text/plain": [
       "   Min. 1st Qu.  Median    Mean 3rd Qu.    Max. \n",
       "   1000    4000    6500    8337   12000   35000 "
      ]
     },
     "metadata": {},
     "output_type": "display_data"
    },
    {
     "data": {},
     "metadata": {},
     "output_type": "display_data"
    },
    {
     "data": {
      "image/png": "[encoded data removed]",
      "text/plain": [
       "plot without title"
      ]
     },
     "metadata": {},
     "output_type": "display_data"
    }
   ],
   "source": [
    "# Loan Original Amount statistics\n",
    "summary(df$LoanOriginalAmount)\n",
    "\n",
    "# plot Loan Original Amount\n",
    "ggplot(aes(x = LoanOriginalAmount), data = df) +\n",
    "  geom_histogram(binwidth = 1000, color = \"#ffffff\", fill = \"#3F5D7D\") +\n",
    "  stat_bin(binwidth = 1000, aes(y=..count.., label=..count..,), geom=\"text\", vjust=-.5, size=3) +\n",
    "  scale_x_continuous(breaks = seq(0, 36000, 1000)) +\n",
    "  scale_y_continuous(limits = c(0,17500), breaks = seq(0, 17500, 2500), expand = c(0,0)) +\n",
    "  labs(x = \"Loan Orginal Amount (USD)\", y = \"Count\") + \n",
    "  theme(axis.title.x = element_text(vjust = -1),\n",
    "        axis.title.y = element_text(vjust = 1),\n",
    "        axis.text.y = element_text(size=10),\n",
    "        axis.text.x = element_text(angle = 45, hjust = 1, size=10),\n",
    "        panel.grid.major.y = element_line(color=\"#d3d3d3\", linetype = \"dashed\", size=0.5)) + \n",
    "  geom_vline(aes(xintercept = mean(LoanOriginalAmount)),\n",
    "            color = \"#ff7f0e\", linetype = \"dashed\", size = 1)"
   ]
  },
  {
   "cell_type": "code",
   "execution_count": 834,
   "metadata": {},
   "outputs": [
    {
     "data": {
      "text/plain": [
       "   Min. 1st Qu.  Median    Mean 3rd Qu.    Max. \n",
       "    0.0   131.6   217.7   272.5   371.6  2251.5 "
      ]
     },
     "metadata": {},
     "output_type": "display_data"
    },
    {
     "data": {},
     "metadata": {},
     "output_type": "display_data"
    },
    {
     "data": {
      "image/png": "[encoded data removed]",
      "text/plain": [
       "plot without title"
      ]
     },
     "metadata": {},
     "output_type": "display_data"
    }
   ],
   "source": [
    "# Monthly Loan Payment statistics\n",
    "summary(df$MonthlyLoanPayment)\n",
    "\n",
    "# plot Monthly Loan Payment \n",
    "ggplot(aes(x = MonthlyLoanPayment), data = df) +\n",
    "  geom_histogram(binwidth = 100, color = \"#ffffff\", fill = \"#3F5D7D\") +\n",
    "  stat_bin(binwidth = 100, aes(y=..count.., label=..count..,), geom=\"text\", vjust=-.5, size=3) +\n",
    "  scale_x_continuous(breaks = seq(0, 2300, 100)) +\n",
    "  scale_y_continuous(limits = c(0,30000), breaks = seq(0, 30000, 5000), expand = c(0,0)) +\n",
    "  labs(x = \"Monthly Loan Payment  (USD)\", y = \"Count\") + \n",
    "  theme(axis.title.x = element_text(vjust = -1),\n",
    "        axis.title.y = element_text(vjust = 1),\n",
    "        axis.text.y = element_text(size=10),\n",
    "        axis.text.x = element_text(angle = 45, hjust = 1, size=10),\n",
    "        panel.grid.major.y = element_line(color=\"#d3d3d3\", linetype = \"dashed\", size=0.5)) + \n",
    "  geom_vline(aes(xintercept = mean(MonthlyLoanPayment)),\n",
    "            color = \"#ff7f0e\", linetype = \"dashed\", size = 1)"
   ]
  },
  {
   "cell_type": "code",
   "execution_count": 911,
   "metadata": {
    "scrolled": false
   },
   "outputs": [
    {
     "data": {},
     "metadata": {},
     "output_type": "display_data"
    },
    {
     "data": {
      "image/png": "[encoded data removed]",
      "text/plain": [
       "plot without title"
      ]
     },
     "metadata": {},
     "output_type": "display_data"
    }
   ],
   "source": [
    "# group loans by borrower's state\n",
    "loans <- df %>% count(df$BorrowerState) %>%\n",
    "                set_colnames(c(\"region\", \"count\"))\n",
    "loans$region <- tolower(loans$region)\n",
    "\n",
    "# get polygon data for states\n",
    "states <- map_data(\"state\")\n",
    "\n",
    "# merge datasets\n",
    "loans_states <- inner_join(states, loans, by = \"region\")\n",
    "\n",
    "# plot borrowers by state\n",
    "ggplot(data = loans_states, mapping = aes(x = long, y = lat, group = group)) + \n",
    "  coord_fixed(1.3) + \n",
    "  geom_polygon(color = \"#000000\", fill = \"#d3d3d3\") + \n",
    "  geom_polygon(data = loans_states, aes(fill = count), color = \"#ffffff\") +\n",
    "  geom_polygon(color = \"#000000\", fill = NA) +\n",
    "  labs(title = \"Loan borrowers by state\", x=\"\", y=\"\") + \n",
    "  theme_bw() +\n",
    "  theme(plot.title = element_text(hjust = 0.5),\n",
    "        axis.text = element_blank(),\n",
    "        axis.line = element_blank(),\n",
    "        axis.ticks = element_blank(),\n",
    "        legend.title = element_blank(),\n",
    "        panel.border = element_blank(),\n",
    "        panel.grid = element_blank()) + \n",
    "  scale_fill_gradient(trans = \"log10\", low = \"#d3d3d3\", high = \"#3F5D7D\")"
   ]
  },
  {
   "cell_type": "code",
   "execution_count": 980,
   "metadata": {},
   "outputs": [
    {
     "data": {},
     "metadata": {},
     "output_type": "display_data"
    },
    {
     "data": {
      "image/png": "[encoded data removed]",
      "text/plain": [
       "plot without title"
      ]
     },
     "metadata": {},
     "output_type": "display_data"
    }
   ],
   "source": [
    "# IsBorrowerHomeowner variable\n",
    "homeowner <- df %>% count(df$IsBorrowerHomeowner) %>%\n",
    "                set_colnames(c(\"owner\", \"count\"))\n",
    "\n",
    "# plot home ownership\n",
    "waffle(c(No = homeowner$count[homeowner$owner == \"FALSE\"] / 1000, \n",
    "         Yes = homeowner$count[homeowner$owner == \"TRUE\"] / 1000), \n",
    "       rows = 6, \n",
    "       colors = c(\"#d3d3d3\",\"#3F5D7D\"), \n",
    "       size = 0.5, pad = 1, \n",
    "       legend_pos = \"bottom\", \n",
    "       title = \"Is Borrower a Homeowner?\",\n",
    "       xlab = \"1 square = 1000 customers\")"
   ]
  },
  {
   "cell_type": "code",
   "execution_count": null,
   "metadata": {},
   "outputs": [],
   "source": []
  },
  {
   "cell_type": "code",
   "execution_count": null,
   "metadata": {},
   "outputs": [],
   "source": []
  },
  {
   "cell_type": "code",
   "execution_count": null,
   "metadata": {},
   "outputs": [],
   "source": []
  },
  {
   "cell_type": "markdown",
   "metadata": {},
   "source": [
    "Resources\n",
    "\n",
    "[Beautiful plotting in R: A ggplot2 cheatsheet](http://zevross.com/blog/2014/08/04/beautiful-plotting-in-r-a-ggplot2-cheatsheet-3/)  \n",
    "[Making Maps with R](http://eriqande.github.io/rep-res-web/lectures/making-maps-with-R.html)"
   ]
  },
  {
   "cell_type": "code",
   "execution_count": null,
   "metadata": {},
   "outputs": [],
   "source": []
  }
 ],
 "metadata": {
  "kernelspec": {
   "display_name": "R",
   "language": "R",
   "name": "ir"
  },
  "language_info": {
   "codemirror_mode": "r",
   "file_extension": ".r",
   "mimetype": "text/x-r-source",
   "name": "R",
   "pygments_lexer": "r",
   "version": "3.5.1"
  }
 },
 "nbformat": 4,
 "nbformat_minor": 2
}
